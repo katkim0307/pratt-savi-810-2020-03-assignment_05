{
 "cells": [
  {
   "cell_type": "code",
   "execution_count": 1,
   "metadata": {},
   "outputs": [],
   "source": [
    "import pandas as pd\n",
    "import geopandas as gpd"
   ]
  },
  {
   "cell_type": "markdown",
   "metadata": {},
   "source": [
    "# 1. Take in a `.csv` of addresses and geocode them.\n",
    "\n",
    "* Geocode address column by apply-ing geolocator.geocode \n",
    "* Create a geometry column\n",
    "* Create a geodataframe called gdf from df\n",
    "* Define the .crs =  {'init': 'epsg:4326'} \n",
    "* Drop the geocode column from the gdf "
   ]
  },
  {
   "cell_type": "code",
   "execution_count": 3,
   "metadata": {},
   "outputs": [],
   "source": [
    "from geopy.geocoders import Nominatim\n",
    "from shapely.geometry import Point\n",
    "from geopandas import GeoDataFrame\n",
    "\n",
    "geolocator = Nominatim(user_agent='pratt_geospatial')\n",
    "\n",
    "# address_csv = 'data/input/address.csv'\n",
    "# what would be address_column? address_df[0]??\n",
    "# address_df = pd.read_csv('data/input/address.csv')???\n",
    "\n",
    "def geocode_dataframe(address_dataframe, address_column):\n",
    "    df = address_dataframe.copy()\n",
    "\n",
    "    # geocode address column by apply-ing geolocator.geocode \n",
    "    df['geocode'] = df['address'].apply(geolocator.geocode)\n",
    "    \n",
    "    # create a geometry column\n",
    "    df['geometry'] = df['geocode'].apply(\n",
    "        lambda x: Point(x.longitude, x.latitude)  # this is using shapely.geometry object (point)\n",
    "    )\n",
    "    \n",
    "    # create a geodataframe called gdf from df and define the .crs =  {'init': 'epsg:4326'} \n",
    "    gdf = GeoDataFrame(df, geometry='geometry', crs={'init': 'epsg:4326', 'no_defs': True})\n",
    "\n",
    "    # drop the geocode column from the gdf  \n",
    "    gdf = gdf.drop(columns=['geocode']) # gdf = gdf.drop(['geocode'], axis=1)\n",
    "\n",
    "    return gdf"
   ]
  },
  {
   "cell_type": "markdown",
   "metadata": {},
   "source": [
    "# 2. Find out what states these addresses are in\n",
    "* Read states_geojson file\n",
    "* Spatial join to get associate state IDs with address points \n",
    "* Be extra careful with gdf's crs"
   ]
  },
  {
   "cell_type": "code",
   "execution_count": 5,
   "metadata": {},
   "outputs": [],
   "source": [
    "# import geopandas as gpd\n",
    "\n",
    "def get_state_ids(\n",
    "        geodataframe_points,\n",
    "        states_geojson='data/input/states.json',\n",
    "):\n",
    "    \n",
    "    # geodataframe_points is already a GeoDataFrame\n",
    "    # states_gepjson is from https://raw.githubusercontent.com/loganpowell/census-geojson/master/GeoJSON/5m/2018/state.json\n",
    "\n",
    "    # read states_geojson (crs -> epsg:4326)\n",
    "    states_gdf = gpd.read_file(states_geojson)[['GEOID', 'STUSPS', 'NAME', 'geometry']]\n",
    "\n",
    "    # matching both gdf's crs just in case\n",
    "    geodataframe_points.to_crs(states_gdf.crs, inplace=True)\n",
    "\n",
    "    # spatial join to get associate state ids with address points\n",
    "    points_sj_states = gpd.sjoin(\n",
    "        geodataframe_points,\n",
    "        states_gdf,\n",
    "        how='left',\n",
    "        op='intersects',    # within <-opposite-> contains\n",
    "                            # points are within the states\n",
    "    )\n",
    "\n",
    "    return points_sj_states"
   ]
  },
  {
   "cell_type": "markdown",
   "metadata": {},
   "source": [
    "# 3. Download and unzip those state Census Tract shapefiles\n",
    "* Download the file from the download url = https://www2.census.gov/geo/tiger/TIGER2019/TRACT\n",
    "* Unzip the file to saved_file"
   ]
  },
  {
   "cell_type": "code",
   "execution_count": null,
   "metadata": {},
   "outputs": [],
   "source": [
    "import urllib.request\n",
    "import zipfile\n",
    "import os.path\n",
    "\n",
    "url_dir = 'https://www2.census.gov/geo/tiger/TIGER2019/TRACT'\n",
    "\n",
    "\n",
    "def get_census_tracts(geoid, download_directory):\n",
    "    download_url = f'{url_dir}/tl_2019_{geoid}_tract.zip'\n",
    "    saved_file = f'{download_directory}/tl_2019_{geoid}_tract.zip'\n",
    "\n",
    "    # download the file from the download url\n",
    "\n",
    "    # unzip the file to saved_file \n",
    "    \n"
   ]
  },
  {
   "cell_type": "markdown",
   "metadata": {},
   "source": [
    "# 4. What is this doing with census population data???"
   ]
  },
  {
   "cell_type": "code",
   "execution_count": 7,
   "metadata": {},
   "outputs": [],
   "source": [
    "from census import Census\n",
    "import pandas as pd\n",
    "\n",
    "\n",
    "def get_census_tract_acs_data_for_state(\n",
    "        api_key,\n",
    "        acs_field_name,\n",
    "        state_fips,\n",
    "):\n",
    "    c = Census(api_key)\n",
    "    df = pd.DataFrame(\n",
    "        c.acs5.state_county_tract(\n",
    "            acs_field_name,\n",
    "            state_fips,\n",
    "            '*',\n",
    "            '*',\n",
    "        )\n",
    "    )\n",
    "    df['GEOID'] = df['state'].astype(str) + \\\n",
    "        df['county'].astype(str) + \\\n",
    "        df['tract'].astype(str)\n",
    "\n",
    "    return df"
   ]
  },
  {
   "cell_type": "markdown",
   "metadata": {},
   "source": [
    "# 5. Buffer the addresses by a given buffer distance of 2km\n",
    "* Project to epsg=3857"
   ]
  },
  {
   "cell_type": "code",
   "execution_count": null,
   "metadata": {},
   "outputs": [],
   "source": [
    "def buffer_addresses(point_gdf, buffer_distance):\n",
    "    # your code here\n",
    "    \n",
    "    \n",
    "    # project to 3857\n",
    "    point_gdf.to_crs(epsg=3857, inplace=True)\n",
    "    \n",
    "    # buffer by buffer distance\n",
    "    point_gdf.buffer(buffer_distance)\n",
    "    \n",
    "    # You can do it in one line:\n",
    "    # point_gdf.to_crs(epsg=3857).buffer(buffer_distance)\n",
    "    \n",
    "    return pts"
   ]
  },
  {
   "cell_type": "markdown",
   "metadata": {},
   "source": [
    "# 6. Intersect and perform area-weighted interpolation to estimate population within Buffer distance.  Then sum the population in Buffer."
   ]
  },
  {
   "cell_type": "code",
   "execution_count": null,
   "metadata": {},
   "outputs": [],
   "source": []
  },
  {
   "cell_type": "markdown",
   "metadata": {},
   "source": [
    "# 7. Print maps of the geocoded address, tract boundaries and buffers.\n",
    "\n",
    "* Plot buffer_pol\n",
    "* Plot tracts\n",
    "* Plot buffer_int\n",
    "* Plot point - be sure that it's using epsg=3857\n",
    "* Center the map\n",
    "* Add the base map"
   ]
  },
  {
   "cell_type": "code",
   "execution_count": null,
   "metadata": {},
   "outputs": [],
   "source": [
    "import matplotlib.pyplot as plt\n",
    "import contextily as ctx\n",
    "\n",
    "\n",
    "def create_map(point, buffer_pol, buffer_int, tracts, index):\n",
    "    fig, ax = plt.subplots(figsize=(12, 12))\n",
    "\n",
    "    # plot buffer_pol\n",
    "    buffer_pol.to_crs(epsg=3857).plot(ax=ax, color='lightyellow')\n",
    "    \n",
    "    # plot tracts\n",
    "    tracts.to_crs(epsg=3857).plot(ax=ax, color='yellow')\n",
    "    \n",
    "    # plot buffer_int\n",
    "    \n",
    "       \n",
    "    # plot point - be sure that it's using epsg=3857\n",
    "    point.to_crs(epsg=3857).plot(ax=ax, color='red', marker='X', size=5000)\n",
    "\n",
    "    # center the map \n",
    "    ax.set_xlim(buffer_pol.bounds['minx'][index], buffer_pol.bounds['maxx'][index])\n",
    "    ax.set_ylim(buffer_pol.bounds['miny'][index], buffer_pol.bounds['maxy'][index])\n",
    "\n",
    "    population = buffer_int['pop_est'].sum()  # calc sum pop for buffer_int\n",
    "    plt.title(f'{buffer[\"address\"][index]} - Population: {population:,.0f}')  # add title\n",
    "\n",
    "    ctx.add_basemap(\n",
    "        ax,\n",
    "        url='https://{s}.basemaps.cartocdn.com/light_all/{z}/{x}/{y}.png'\n",
    "    )  # add basemap\n",
    "\n",
    "    ax.axis('off')  # turn off x, y axis lines\n",
    "\n",
    "    plt.savefig(f'maps/map_{index}_int_tract_pop.png')\n"
   ]
  }
 ],
 "metadata": {
  "kernelspec": {
   "display_name": "Python 3",
   "language": "python",
   "name": "python3"
  },
  "language_info": {
   "codemirror_mode": {
    "name": "ipython",
    "version": 3
   },
   "file_extension": ".py",
   "mimetype": "text/x-python",
   "name": "python",
   "nbconvert_exporter": "python",
   "pygments_lexer": "ipython3",
   "version": "3.7.7"
  }
 },
 "nbformat": 4,
 "nbformat_minor": 4
}
